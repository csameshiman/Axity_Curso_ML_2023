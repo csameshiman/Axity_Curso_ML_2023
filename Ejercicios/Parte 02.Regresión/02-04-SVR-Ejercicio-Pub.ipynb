{
 "cells": [
  {
   "cell_type": "markdown",
   "metadata": {},
   "source": [
    "# SVR - Ejercicio - Publicidad y Ventas"
   ]
  },
  {
   "cell_type": "markdown",
   "metadata": {},
   "source": [
    "**Contexto**  \n",
    "Este conjunto de datos contiene las ventas obtenidas, de acuerdo al monto invertido en publicidad en diferentes canales.\n",
    "\n",
    "**Contenido**  \n",
    "El conjunto de datos proviene de kaggle: [Advertising dataset](https://www.kaggle.com/datasets/tawfikelmetwally/advertising-dataset).  \n",
    "Contiene 200 renglones, con las siguientes columnas:\n",
    "* TV: inversión de anuncios por TV, en miles de USD\n",
    "* Radio: inversión de anuncios en radio, en miles de USD\n",
    "* Newspaper: inversión de anuncios en periódicos, en miles de USD\n",
    "* **Sales**: ventas obtenidas en millones de USD **->(variable objetivo)**\n",
    "\n",
    "**Planteamiento del problema**  \n",
    "Se busca predecir que canales tienen mayor impacto en las ventas obtenidas."
   ]
  },
  {
   "cell_type": "code",
   "execution_count": 1,
   "metadata": {},
   "outputs": [],
   "source": [
    "# Importar librerias\n",
    "import pandas as pd\n",
    "import numpy as np\n",
    "import seaborn as sns\n",
    "import matplotlib.pyplot as plt\n",
    "%matplotlib inline\n",
    "\n",
    "from sklearn.preprocessing import StandardScaler\n",
    "from sklearn.model_selection import train_test_split\n",
    "from sklearn.svm import SVR\n",
    "from sklearn import metrics"
   ]
  },
  {
   "cell_type": "markdown",
   "metadata": {},
   "source": [
    "## Cargar Datos"
   ]
  },
  {
   "cell_type": "code",
   "execution_count": 2,
   "metadata": {},
   "outputs": [
    {
     "data": {
      "text/html": [
       "<div>\n",
       "<style scoped>\n",
       "    .dataframe tbody tr th:only-of-type {\n",
       "        vertical-align: middle;\n",
       "    }\n",
       "\n",
       "    .dataframe tbody tr th {\n",
       "        vertical-align: top;\n",
       "    }\n",
       "\n",
       "    .dataframe thead th {\n",
       "        text-align: right;\n",
       "    }\n",
       "</style>\n",
       "<table border=\"1\" class=\"dataframe\">\n",
       "  <thead>\n",
       "    <tr style=\"text-align: right;\">\n",
       "      <th></th>\n",
       "      <th>Unnamed: 0</th>\n",
       "      <th>TV</th>\n",
       "      <th>Radio</th>\n",
       "      <th>Newspaper</th>\n",
       "      <th>Sales</th>\n",
       "    </tr>\n",
       "  </thead>\n",
       "  <tbody>\n",
       "    <tr>\n",
       "      <th>0</th>\n",
       "      <td>1</td>\n",
       "      <td>230.1</td>\n",
       "      <td>37.8</td>\n",
       "      <td>69.2</td>\n",
       "      <td>22.1</td>\n",
       "    </tr>\n",
       "    <tr>\n",
       "      <th>1</th>\n",
       "      <td>2</td>\n",
       "      <td>44.5</td>\n",
       "      <td>39.3</td>\n",
       "      <td>45.1</td>\n",
       "      <td>10.4</td>\n",
       "    </tr>\n",
       "    <tr>\n",
       "      <th>2</th>\n",
       "      <td>3</td>\n",
       "      <td>17.2</td>\n",
       "      <td>45.9</td>\n",
       "      <td>69.3</td>\n",
       "      <td>9.3</td>\n",
       "    </tr>\n",
       "    <tr>\n",
       "      <th>3</th>\n",
       "      <td>4</td>\n",
       "      <td>151.5</td>\n",
       "      <td>41.3</td>\n",
       "      <td>58.5</td>\n",
       "      <td>18.5</td>\n",
       "    </tr>\n",
       "    <tr>\n",
       "      <th>4</th>\n",
       "      <td>5</td>\n",
       "      <td>180.8</td>\n",
       "      <td>10.8</td>\n",
       "      <td>58.4</td>\n",
       "      <td>12.9</td>\n",
       "    </tr>\n",
       "  </tbody>\n",
       "</table>\n",
       "</div>"
      ],
      "text/plain": [
       "   Unnamed: 0     TV  Radio  Newspaper  Sales\n",
       "0           1  230.1   37.8       69.2   22.1\n",
       "1           2   44.5   39.3       45.1   10.4\n",
       "2           3   17.2   45.9       69.3    9.3\n",
       "3           4  151.5   41.3       58.5   18.5\n",
       "4           5  180.8   10.8       58.4   12.9"
      ]
     },
     "execution_count": 2,
     "metadata": {},
     "output_type": "execute_result"
    }
   ],
   "source": [
    "# Importar los datos\n",
    "df = pd.read_csv('Advertising.csv')\n",
    "df.head()"
   ]
  },
  {
   "cell_type": "code",
   "execution_count": 3,
   "metadata": {},
   "outputs": [
    {
     "data": {
      "text/html": [
       "<div>\n",
       "<style scoped>\n",
       "    .dataframe tbody tr th:only-of-type {\n",
       "        vertical-align: middle;\n",
       "    }\n",
       "\n",
       "    .dataframe tbody tr th {\n",
       "        vertical-align: top;\n",
       "    }\n",
       "\n",
       "    .dataframe thead th {\n",
       "        text-align: right;\n",
       "    }\n",
       "</style>\n",
       "<table border=\"1\" class=\"dataframe\">\n",
       "  <thead>\n",
       "    <tr style=\"text-align: right;\">\n",
       "      <th></th>\n",
       "      <th>renglón</th>\n",
       "      <th>tv</th>\n",
       "      <th>radio</th>\n",
       "      <th>periodico</th>\n",
       "      <th>ventas</th>\n",
       "    </tr>\n",
       "  </thead>\n",
       "  <tbody>\n",
       "    <tr>\n",
       "      <th>0</th>\n",
       "      <td>1</td>\n",
       "      <td>230.1</td>\n",
       "      <td>37.8</td>\n",
       "      <td>69.2</td>\n",
       "      <td>22.1</td>\n",
       "    </tr>\n",
       "    <tr>\n",
       "      <th>1</th>\n",
       "      <td>2</td>\n",
       "      <td>44.5</td>\n",
       "      <td>39.3</td>\n",
       "      <td>45.1</td>\n",
       "      <td>10.4</td>\n",
       "    </tr>\n",
       "    <tr>\n",
       "      <th>2</th>\n",
       "      <td>3</td>\n",
       "      <td>17.2</td>\n",
       "      <td>45.9</td>\n",
       "      <td>69.3</td>\n",
       "      <td>9.3</td>\n",
       "    </tr>\n",
       "    <tr>\n",
       "      <th>3</th>\n",
       "      <td>4</td>\n",
       "      <td>151.5</td>\n",
       "      <td>41.3</td>\n",
       "      <td>58.5</td>\n",
       "      <td>18.5</td>\n",
       "    </tr>\n",
       "    <tr>\n",
       "      <th>4</th>\n",
       "      <td>5</td>\n",
       "      <td>180.8</td>\n",
       "      <td>10.8</td>\n",
       "      <td>58.4</td>\n",
       "      <td>12.9</td>\n",
       "    </tr>\n",
       "  </tbody>\n",
       "</table>\n",
       "</div>"
      ],
      "text/plain": [
       "   renglón     tv  radio  periodico  ventas\n",
       "0        1  230.1   37.8       69.2    22.1\n",
       "1        2   44.5   39.3       45.1    10.4\n",
       "2        3   17.2   45.9       69.3     9.3\n",
       "3        4  151.5   41.3       58.5    18.5\n",
       "4        5  180.8   10.8       58.4    12.9"
      ]
     },
     "execution_count": 3,
     "metadata": {},
     "output_type": "execute_result"
    }
   ],
   "source": [
    "# Renombrar columnas\n",
    "df.columns = ['renglón', 'tv', 'radio', 'periodico', 'ventas']\n",
    "df.head()"
   ]
  },
  {
   "cell_type": "markdown",
   "metadata": {},
   "source": [
    "## Normalización"
   ]
  },
  {
   "cell_type": "code",
   "execution_count": 4,
   "metadata": {},
   "outputs": [
    {
     "data": {
      "text/html": [
       "<div>\n",
       "<style scoped>\n",
       "    .dataframe tbody tr th:only-of-type {\n",
       "        vertical-align: middle;\n",
       "    }\n",
       "\n",
       "    .dataframe tbody tr th {\n",
       "        vertical-align: top;\n",
       "    }\n",
       "\n",
       "    .dataframe thead th {\n",
       "        text-align: right;\n",
       "    }\n",
       "</style>\n",
       "<table border=\"1\" class=\"dataframe\">\n",
       "  <thead>\n",
       "    <tr style=\"text-align: right;\">\n",
       "      <th></th>\n",
       "      <th>tv</th>\n",
       "      <th>radio</th>\n",
       "      <th>periodico</th>\n",
       "    </tr>\n",
       "  </thead>\n",
       "  <tbody>\n",
       "    <tr>\n",
       "      <th>0</th>\n",
       "      <td>230.1</td>\n",
       "      <td>37.8</td>\n",
       "      <td>69.2</td>\n",
       "    </tr>\n",
       "    <tr>\n",
       "      <th>1</th>\n",
       "      <td>44.5</td>\n",
       "      <td>39.3</td>\n",
       "      <td>45.1</td>\n",
       "    </tr>\n",
       "    <tr>\n",
       "      <th>2</th>\n",
       "      <td>17.2</td>\n",
       "      <td>45.9</td>\n",
       "      <td>69.3</td>\n",
       "    </tr>\n",
       "    <tr>\n",
       "      <th>3</th>\n",
       "      <td>151.5</td>\n",
       "      <td>41.3</td>\n",
       "      <td>58.5</td>\n",
       "    </tr>\n",
       "    <tr>\n",
       "      <th>4</th>\n",
       "      <td>180.8</td>\n",
       "      <td>10.8</td>\n",
       "      <td>58.4</td>\n",
       "    </tr>\n",
       "  </tbody>\n",
       "</table>\n",
       "</div>"
      ],
      "text/plain": [
       "      tv  radio  periodico\n",
       "0  230.1   37.8       69.2\n",
       "1   44.5   39.3       45.1\n",
       "2   17.2   45.9       69.3\n",
       "3  151.5   41.3       58.5\n",
       "4  180.8   10.8       58.4"
      ]
     },
     "execution_count": 4,
     "metadata": {},
     "output_type": "execute_result"
    }
   ],
   "source": [
    "# Variables independientes\n",
    "X = df[['tv', 'radio', 'periodico']]\n",
    "X.head()"
   ]
  },
  {
   "cell_type": "code",
   "execution_count": 5,
   "metadata": {},
   "outputs": [
    {
     "name": "stdout",
     "output_type": "stream",
     "text": [
      "[[ 9.69852266e-01  9.81522472e-01  1.77894547e+00]\n",
      " [-1.19737623e+00  1.08280781e+00  6.69578760e-01]\n",
      " [-1.51615499e+00  1.52846331e+00  1.78354865e+00]\n",
      " [ 5.20496822e-02  1.21785493e+00  1.28640506e+00]\n",
      " [ 3.94182198e-01 -8.41613655e-01  1.28180188e+00]\n",
      " [-1.61540845e+00  1.73103399e+00  2.04592999e+00]\n",
      " [-1.04557682e+00  6.43904671e-01 -3.24708413e-01]\n",
      " [-3.13436589e-01 -2.47406325e-01 -8.72486994e-01]\n",
      " [-1.61657614e+00 -1.42906863e+00 -1.36042422e+00]\n",
      " [ 6.16042873e-01 -1.39530685e+00 -4.30581584e-01]\n",
      " [-9.45155670e-01 -1.17923146e+00 -2.92486143e-01]\n",
      " [ 7.90028350e-01  4.96973404e-02 -1.22232878e+00]\n",
      " [-1.43908760e+00  7.99208859e-01  1.62704048e+00]\n",
      " [-5.78501712e-01 -1.05768905e+00 -1.07502697e+00]\n",
      " [ 6.66253447e-01  6.50657027e-01  7.11007392e-01]\n",
      " [ 5.64664612e-01  1.65000572e+00  1.02862691e+00]\n",
      " [-9.25304978e-01  9.00494200e-01  3.84117072e+00]\n",
      " [ 1.56887609e+00  1.10306488e+00  1.16211917e+00]\n",
      " [-9.08957349e-01 -1.86635121e-01 -5.64073843e-01]\n",
      " [ 3.00679600e-03  4.29449843e-02 -5.27248393e-01]\n",
      " [ 8.33232798e-01  2.99534513e-01  1.05164281e+00]\n",
      " [ 1.05509347e+00 -1.22649795e+00 -3.24708413e-01]\n",
      " [-1.56286250e+00 -4.97243498e-01  8.76721921e-01]\n",
      " [ 9.48833887e-01 -4.29719938e-01 -2.00422516e-01]\n",
      " [-9.89527805e-01 -7.20071247e-01 -5.64073843e-01]\n",
      " [ 1.35285385e+00 -1.33453565e+00 -5.08835667e-01]\n",
      " [-4.83714657e-02  4.07572210e-01 -8.26455181e-01]\n",
      " [ 1.08662104e+00 -4.43224650e-01 -3.52327501e-01]\n",
      " [ 1.18820988e+00  2.59020377e-01 -3.52327501e-01]\n",
      " [-8.92609721e-01 -4.90491142e-01  4.71641962e-01]\n",
      " [ 1.70316018e+00  3.40048650e-01  5.82118314e-01]\n",
      " [-3.98677796e-01 -3.95958157e-01  3.70371972e-01]\n",
      " [-5.82004775e-01 -1.46958277e+00 -2.55016247e-02]\n",
      " [ 1.38438142e+00 -2.20396901e-01 -1.39264649e+00]\n",
      " [-5.99520091e-01 -1.47633512e+00 -1.06582061e+00]\n",
      " [ 1.67747105e+00 -1.29402151e+00 -1.01518562e+00]\n",
      " [ 1.39956136e+00  1.38666383e+00 -1.17629696e+00]\n",
      " [-8.44734522e-01  1.76479577e+00  6.97197848e-01]\n",
      " [-1.21372386e+00  2.32010953e-01  2.09260624e-01]\n",
      " [ 9.45330823e-01  9.74770116e-01  6.65620024e-02]\n",
      " [ 6.47570443e-01 -6.50927121e-02  4.81492770e-02]\n",
      " [ 3.49810063e-01  6.84418807e-01  3.74975153e-01]\n",
      " [ 1.71133400e+00  2.99534513e-01 -1.32359877e+00]\n",
      " [ 6.98948705e-01 -1.00367020e+00 -1.91216154e-01]\n",
      " [-1.42390765e+00  1.64487393e-01  5.86721496e-01]\n",
      " [ 3.27623995e-01 -5.15880000e-02  4.35460956e-02]\n",
      " [-6.69581357e-01 -9.02384859e-01  2.36879713e-01]\n",
      " [ 1.08428567e+00  1.23135965e+00 -5.54867481e-01]\n",
      " [ 9.35989321e-01 -5.03995854e-01  8.90531465e-01]\n",
      " [-9.35814168e-01 -7.80842451e-01  2.87514708e-01]\n",
      " [ 6.16042873e-01 -1.36154507e+00  1.86244718e-01]\n",
      " [-5.44638766e-01 -9.22641928e-01 -1.24074150e+00]\n",
      " [ 8.09879042e-01  1.24486436e+00  4.16403786e-01]\n",
      " [ 4.15200577e-01  1.54872038e+00  1.29561142e+00]\n",
      " [ 1.35051848e+00  3.73810430e-01 -6.74550196e-01]\n",
      " [ 6.05533683e-01  1.76479577e+00  1.35545278e+00]\n",
      " [-1.63175608e+00  3.26543937e-01  4.99261050e-01]\n",
      " [-1.26606546e-01 -2.74415749e-01 -6.42327927e-01]\n",
      " [ 7.44488528e-01  1.77830048e+00  3.28943340e-01]\n",
      " [ 7.43320840e-01  4.21076922e-01 -9.78360166e-01]\n",
      " [-1.09228433e+00 -1.43582099e+00 -4.21375221e-01]\n",
      " [ 1.33417085e+00  1.31238792e+00  1.11148417e+00]\n",
      " [ 1.07727954e+00 -5.24252922e-01 -1.49787521e-01]\n",
      " [-5.17781948e-01  4.27829278e-01 -1.01978880e+00]\n",
      " [-1.86158622e-01  1.31914027e+00 -7.61366196e-02]\n",
      " [-9.11292725e-01 -9.42898996e-01 -1.36502740e+00]\n",
      " [-1.34917564e+00  9.02114765e-02 -1.30518604e+00]\n",
      " [-9.04082253e-02 -5.91776482e-01 -9.36931533e-01]\n",
      " [ 1.05509347e+00  2.86029801e-01 -9.00106083e-01]\n",
      " [ 8.14549794e-01  1.39341619e+00 -1.54390703e-01]\n",
      " [ 6.07869059e-01  4.95352838e-01  3.74975153e-01]\n",
      " [-4.34876116e-01 -6.05281194e-01  5.27524584e-02]\n",
      " [-1.40405696e+00  6.57409383e-01 -5.18042030e-01]\n",
      " [-2.06009314e-01 -1.18598381e+00  3.43397329e-02]\n",
      " [ 7.74848409e-01  9.02114765e-02 -8.03439274e-01]\n",
      " [-1.51965805e+00  1.37991148e+00  2.70878810e+00]\n",
      " [-1.39588315e+00 -1.46283041e+00 -4.53597491e-01]\n",
      " [-3.09933525e-01  3.53553362e-01 -7.52804279e-01]\n",
      " [-1.65394214e+00  4.48086346e-01 -9.73756984e-01]\n",
      " [-3.62479475e-01 -1.05093669e+00 -3.43121138e-01]\n",
      " [-8.24883830e-01  2.32010953e-01 -3.79946589e-01]\n",
      " [ 1.08311798e+00 -1.29402151e+00  2.92117889e-01]\n",
      " [-8.37728396e-01 -2.00139833e-01  8.95779092e-02]\n",
      " [-9.18298852e-01  1.43393033e+00  2.32276531e-01]\n",
      " [ 7.76016097e-01  1.33264499e+00  1.49419267e-01]\n",
      " [ 5.38975481e-01 -3.28434597e-01  1.61783412e+00]\n",
      " [-8.26051518e-01  2.86029801e-01 -6.69947015e-01]\n",
      " [-4.24366926e-01  1.17058844e+00  1.50275459e+00]\n",
      " [-6.85928986e-01  1.50982681e-01  1.97227908e+00]\n",
      " [-4.34876116e-01  1.65675807e+00  9.59579186e-01]\n",
      " [-1.48792614e-01 -1.24000266e+00 -9.78360166e-01]\n",
      " [-1.38303858e+00 -1.46958277e+00  1.12593816e-01]\n",
      " [ 8.25058983e-01  6.91171163e-01  1.30942097e+00]\n",
      " [ 1.21273132e+00  8.93741844e-01  1.92164409e+00]\n",
      " [-4.62900623e-01 -6.25538262e-01 -9.04709264e-01]\n",
      " [ 1.89836839e-01  5.62876398e-01  1.02862691e+00]\n",
      " [ 5.90353742e-01 -1.33453565e+00 -1.13486833e+00]\n",
      " [ 4.42057396e-01 -1.52873340e-01 -3.93756133e-01]\n",
      " [ 1.66579418e+00  1.28537849e+00  9.50372823e-01]\n",
      " [-1.38283424e-01  1.24486436e+00  7.06404211e-01]\n",
      " [ 8.79940308e-01 -1.28051680e+00  8.85928284e-01]\n",
      " [ 1.74402926e+00  8.80237132e-01  3.23815396e+00]\n",
      " [ 1.55486384e+00 -8.88880147e-01 -4.21375221e-01]\n",
      " [ 4.77088029e-01 -4.09462869e-01 -5.82486569e-01]\n",
      " [ 1.06443498e+00  7.45190011e-01 -1.16248742e+00]\n",
      " [-1.06755854e-01  1.56222509e+00  1.30942097e+00]\n",
      " [-1.42507534e+00 -8.28108943e-01 -3.93111688e-02]\n",
      " [-6.61407543e-01 -1.55061104e+00 -3.38517957e-01]\n",
      " [-1.56403019e+00 -1.54385868e+00 -2.28041604e-01]\n",
      " [ 1.26527727e+00  2.45515665e-01 -1.15328106e+00]\n",
      " [ 9.19641692e-01 -1.01717491e+00  1.19434143e+00]\n",
      " [ 1.10530405e+00  9.95027184e-01 -3.38517957e-01]\n",
      " [ 3.34630122e-01 -5.31005278e-01 -1.29597968e+00]\n",
      " [ 7.30476274e-01 -1.79882765e-01 -9.13915627e-01]\n",
      " [-8.03865450e-01  1.58923451e+00  1.81641536e-01]\n",
      " [-8.40063771e-01  7.92456503e-01  1.01942054e+00]\n",
      " [-9.15759131e-02 -6.05281194e-01 -2.28041604e-01]\n",
      " [-8.24883830e-01 -1.51684926e+00 -7.25185191e-01]\n",
      " [-2.49213762e-01  9.20751268e-01  2.23926360e+00]\n",
      " [-1.49046586e+00 -4.90491142e-01 -3.79946589e-01]\n",
      " [-6.70544700e-02  2.38763309e-01  7.20213755e-01]\n",
      " [-1.49747198e+00 -1.05606848e-01  9.13547372e-01]\n",
      " [ 8.98623313e-01 -1.40881156e+00 -6.88359740e-01]\n",
      " [-2.79573643e-01  7.65447079e-01 -8.35661544e-01]\n",
      " [ 9.62846140e-01  6.10142891e-01  2.00910454e+00]\n",
      " [-6.98773552e-01 -7.74090095e-01 -2.14232060e-01]\n",
      " [-1.62591764e+00  1.05579839e+00  9.22753735e-01]\n",
      " [-7.80511695e-01 -1.57086811e+00 -9.82963347e-01]\n",
      " [ 8.55418865e-01  1.73778635e+00 -1.25915423e+00]\n",
      " [-1.02105537e+00 -7.60585383e-01  5.77515133e-01]\n",
      " [-1.70882347e+00  1.10306488e+00 -1.00597925e+00]\n",
      " [ 1.37971067e+00 -1.37504978e+00  5.72911952e-01]\n",
      " [-1.61891151e+00  2.65772733e-01 -1.30978922e+00]\n",
      " [ 8.49580427e-01  6.91171163e-01  6.69578760e-01]\n",
      " [-1.28612050e+00  1.03554132e+00  1.61323094e+00]\n",
      " [-1.15300409e+00  1.60273923e+00 -1.01518562e+00]\n",
      " [-1.41806922e+00  1.06255074e+00 -9.78360166e-01]\n",
      " [ 1.47896413e+00  3.80562786e-01  1.34164324e+00]\n",
      " [-1.21489154e+00  1.77992105e-01 -4.62803854e-01]\n",
      " [ 4.42057396e-01  1.39341619e+00 -1.32820195e+00]\n",
      " [-8.59914463e-01 -4.22967582e-01 -8.12645637e-01]\n",
      " [ 5.44813920e-01  8.19465927e-01  2.07354907e+00]\n",
      " [ 8.57754241e-01  6.70914095e-01  3.38149702e-01]\n",
      " [-4.95595880e-01 -1.18598381e+00  1.77038355e-01]\n",
      " [-5.93681653e-01 -5.71519414e-01  3.84181516e-01]\n",
      " [-7.87313476e-02 -1.44257334e+00 -9.92169710e-01]\n",
      " [ 1.08662104e+00 -1.07794612e+00 -1.00597925e+00]\n",
      " [ 1.12281936e+00  1.73778635e+00  6.32753309e-01]\n",
      " [-1.27327593e+00  1.15033137e+00 -8.58677450e-01]\n",
      " [-1.19504085e+00  1.71239749e-01 -4.58200672e-01]\n",
      " [ 1.56070228e+00 -6.32290618e-01  2.96721070e-01]\n",
      " [-3.04095087e-01 -1.00367020e+00  8.35293289e-01]\n",
      " [ 5.90353742e-01  2.43084817e-03 -7.52804279e-01]\n",
      " [ 2.83251860e-01  1.10981724e+00  3.28943340e-01]\n",
      " [ 4.75920341e-01 -1.46120984e-01 -9.69153803e-01]\n",
      " [-1.66912209e+00 -7.87594807e-01 -1.14407469e+00]\n",
      " [-6.20538471e-01  1.36640677e+00  9.18150553e-01]\n",
      " [ 3.21989902e-02 -1.48308748e+00 -2.87882962e-01]\n",
      " [-1.58037782e+00  9.20751268e-01  6.74181942e-01]\n",
      " [-1.79152496e-01 -3.28434597e-01  1.86244718e-01]\n",
      " [ 2.97264113e-01 -3.48691665e-01  6.72064478e-03]\n",
      " [-7.16288868e-01  8.46475352e-01  8.62912377e-01]\n",
      " [ 4.82926468e-01 -3.48691665e-01 -2.28041604e-01]\n",
      " [ 1.92172214e-01  9.13998912e-01 -1.06582061e+00]\n",
      " [-3.48467222e-01 -5.78271770e-01 -1.15788424e+00]\n",
      " [ 1.02123053e+00 -1.34128800e+00  2.49704176e+00]\n",
      " [-1.50798117e+00  9.68017760e-01 -4.12168859e-01]\n",
      " [ 6.97781017e-01 -1.21974559e+00 -5.13438849e-01]\n",
      " [ 7.98202165e-01  2.26879163e-02  1.24497643e+00]\n",
      " [ 1.60273904e+00 -8.55118367e-01 -1.11185242e+00]\n",
      " [-1.13315340e+00 -7.87594807e-01 -5.59470662e-01]\n",
      " [ 2.03849092e-01 -1.59625696e-01  7.75451931e-01]\n",
      " [-1.48813048e+00 -2.13644545e-01 -6.23915201e-01]\n",
      " [ 2.49388915e-01 -1.09145083e+00 -8.17248818e-01]\n",
      " [ 8.79940308e-01 -1.34128800e+00 -8.03439274e-01]\n",
      " [ 1.51633014e+00  1.73103399e+00  5.17673775e-01]\n",
      " [ 1.18353913e+00  4.68343414e-01 -4.72010216e-01]\n",
      " [ 2.70407294e-01 -1.04418434e+00  2.13863806e-01]\n",
      " [ 1.51399477e+00 -1.41556392e+00 -3.15502050e-01]\n",
      " [ 2.16693657e-01 -8.95632503e-01 -5.96296113e-01]\n",
      " [ 1.11601758e-01 -1.39530685e+00 -1.02439198e+00]\n",
      " [ 8.34400486e-01 -1.20624088e+00 -1.45184340e-01]\n",
      " [-1.06075676e+00 -1.18598381e+00 -3.93111688e-02]\n",
      " [ 1.64127273e+00  1.33264499e+00  1.89862818e+00]\n",
      " [ 1.24659427e+00 -1.32616272e-01 -2.55016247e-02]\n",
      " [ 6.76762637e-01  1.47444446e+00 -5.04232486e-01]\n",
      " [-8.80728498e-02 -1.42906863e+00 -1.82009791e-01]\n",
      " [ 5.14454038e-01  3.67058074e-01 -5.68677025e-01]\n",
      " [ 1.62258973e+00 -6.32290618e-01 -1.23613832e+00]\n",
      " [-1.49863967e+00 -7.53833027e-01 -3.29311594e-01]\n",
      " [-1.25576062e+00  1.20435022e+00 -1.13947151e+00]\n",
      " [-8.35393020e-01 -8.41613655e-01 -1.13026515e+00]\n",
      " [-1.51615499e+00 -1.29402151e+00  4.81492770e-02]\n",
      " [ 2.30705910e-01  1.26512143e+00 -1.24074150e+00]\n",
      " [ 3.10313024e-02  8.32970639e-01 -1.13026515e+00]\n",
      " [-1.27094056e+00 -1.32103093e+00 -7.71217005e-01]\n",
      " [-6.17035408e-01 -1.24000266e+00 -1.03359834e+00]\n",
      " [ 3.49810063e-01 -9.42898996e-01 -1.11185242e+00]\n",
      " [ 1.59456522e+00  1.26512143e+00  1.64085003e+00]\n",
      " [ 9.93206022e-01 -9.90165488e-01 -1.00597925e+00]]\n"
     ]
    }
   ],
   "source": [
    "# Normalizar\n",
    "scaler = StandardScaler()\n",
    "X_adj = scaler.fit_transform(X)\n",
    "print(X_adj)"
   ]
  },
  {
   "cell_type": "code",
   "execution_count": 6,
   "metadata": {},
   "outputs": [
    {
     "data": {
      "text/html": [
       "<div>\n",
       "<style scoped>\n",
       "    .dataframe tbody tr th:only-of-type {\n",
       "        vertical-align: middle;\n",
       "    }\n",
       "\n",
       "    .dataframe tbody tr th {\n",
       "        vertical-align: top;\n",
       "    }\n",
       "\n",
       "    .dataframe thead th {\n",
       "        text-align: right;\n",
       "    }\n",
       "</style>\n",
       "<table border=\"1\" class=\"dataframe\">\n",
       "  <thead>\n",
       "    <tr style=\"text-align: right;\">\n",
       "      <th></th>\n",
       "      <th>ventas</th>\n",
       "    </tr>\n",
       "  </thead>\n",
       "  <tbody>\n",
       "    <tr>\n",
       "      <th>0</th>\n",
       "      <td>22.1</td>\n",
       "    </tr>\n",
       "    <tr>\n",
       "      <th>1</th>\n",
       "      <td>10.4</td>\n",
       "    </tr>\n",
       "    <tr>\n",
       "      <th>2</th>\n",
       "      <td>9.3</td>\n",
       "    </tr>\n",
       "    <tr>\n",
       "      <th>3</th>\n",
       "      <td>18.5</td>\n",
       "    </tr>\n",
       "    <tr>\n",
       "      <th>4</th>\n",
       "      <td>12.9</td>\n",
       "    </tr>\n",
       "  </tbody>\n",
       "</table>\n",
       "</div>"
      ],
      "text/plain": [
       "   ventas\n",
       "0    22.1\n",
       "1    10.4\n",
       "2     9.3\n",
       "3    18.5\n",
       "4    12.9"
      ]
     },
     "execution_count": 6,
     "metadata": {},
     "output_type": "execute_result"
    }
   ],
   "source": [
    "# Variable dependiente\n",
    "y = df[['ventas']]\n",
    "y.head()"
   ]
  },
  {
   "cell_type": "code",
   "execution_count": 7,
   "metadata": {},
   "outputs": [
    {
     "name": "stdout",
     "output_type": "stream",
     "text": [
      "[ 1.55205313 -0.69604611 -0.90740587  0.86033029 -0.21568303 -1.31091086\n",
      " -0.42704278 -0.15803946 -1.77205942 -0.65761706 -1.04190753  0.64897053\n",
      " -0.92662039 -0.83054778  0.9564029   1.6096967  -0.29254112  1.99398717\n",
      " -0.5231154   0.11096387  0.76425767 -0.29254112 -1.61834324  0.28389458\n",
      " -0.83054778 -0.38861374  0.18782197  0.36075268  0.93718838 -0.67683159\n",
      "  1.41755147 -0.40782826 -0.8497623   0.64897053 -0.86897682 -0.23489755\n",
      "  2.1861324   0.1301784  -0.75368968  1.43676599  0.49525434  0.59132696\n",
      "  1.2830498  -0.21568303 -1.06112206  0.16860744 -0.65761706  1.76341289\n",
      "  0.14939292 -0.83054778 -0.50390088 -0.63840254  1.64812575  1.37912242\n",
      "  1.18697718  1.8594855  -1.63755776 -0.15803946  1.87870003  0.84111576\n",
      " -1.13798015  1.95555812  0.32232363 -0.00432327  0.76425767 -0.90740587\n",
      " -0.86897682 -0.11961041  0.93718838  1.59048218  0.82190124 -0.31175564\n",
      " -1.00347849 -0.58075897  0.57211244 -1.02269301 -1.36855443  0.03410578\n",
      " -1.67598681 -0.58075897 -0.42704278 -0.33097017 -0.5231154  -0.08118136\n",
      "  1.47519504  0.22625101 -0.38861374  0.3799672  -0.21568303  0.51446886\n",
      " -0.54232992 -1.29169634  1.033261    1.57126765 -0.48468635  0.55289791\n",
      " -0.44625731  0.28389458  2.1861324   0.61054148 -0.44625731  1.87870003\n",
      "  0.14939292  0.1301784   1.2830498   0.99483195 -1.31091086 -1.02269301\n",
      " -1.67598681  1.11011909 -0.11961041  1.49440956  0.01489126  0.36075268\n",
      "  0.11096387 -0.2733266  -0.35018469 -0.88819135  0.36075268 -1.426198\n",
      "  0.28389458 -1.34933991 -0.46547183  0.22625101  1.09090457 -0.65761706\n",
      " -1.426198   -1.00347849  2.05163074 -0.83054778 -2.38692417 -0.25411207\n",
      " -1.59912871  1.07169004 -0.61918802 -0.46547183 -0.86897682  1.30226433\n",
      " -0.8497623   1.2830498  -0.59997349  0.99483195  1.16776266 -0.69604611\n",
      " -0.50390088 -0.71526063 -0.15803946  2.1861324  -0.59997349 -0.75368968\n",
      "  0.39918172 -0.46547183  0.49525434  0.9564029   0.30310911 -2.0794918\n",
      "  0.24546554 -0.75368968 -1.29169634 -0.21568303  0.07253483 -0.13882493\n",
      "  0.16860744  0.76425767 -0.40782826 -0.40782826 -1.15719467 -0.35018469\n",
      "  0.59132696  0.18782197 -1.08033658  0.09174935 -1.23405277 -0.44625731\n",
      " -0.48468635  2.49356478  1.18697718 -0.44625731 -0.42704278 -0.2733266\n",
      " -0.67683159 -0.35018469 -1.02269301  2.33984859  0.68739958  1.64812575\n",
      " -0.71526063  0.62975601  0.36075268 -1.40698348 -0.61918802 -0.79211873\n",
      " -1.56069967  1.07169004  0.62975601 -1.23405277 -0.83054778 -0.23489755\n",
      "  2.20534693 -0.11961041]\n"
     ]
    }
   ],
   "source": [
    "# Normalizar\n",
    "scaler_y = StandardScaler()\n",
    "y_adj = scaler_y.fit_transform(y)\n",
    "y_adj = y_adj.ravel()\n",
    "print(y_adj)"
   ]
  },
  {
   "cell_type": "code",
   "execution_count": 8,
   "metadata": {},
   "outputs": [
    {
     "name": "stdout",
     "output_type": "stream",
     "text": [
      "X: 200 y: 200\n"
     ]
    }
   ],
   "source": [
    "print('X:', len(X_adj), 'y:', len(y_adj))"
   ]
  },
  {
   "cell_type": "markdown",
   "metadata": {},
   "source": [
    "## Modelado"
   ]
  },
  {
   "cell_type": "code",
   "execution_count": 9,
   "metadata": {},
   "outputs": [],
   "source": [
    "# Conjunto de entrenamiento y pruebas\n",
    "## Escribe tu código aqui"
   ]
  },
  {
   "cell_type": "code",
   "execution_count": 10,
   "metadata": {},
   "outputs": [
    {
     "name": "stdout",
     "output_type": "stream",
     "text": [
      "X_train: 140 y_train: 140\n",
      "X_test: 60 y_test: 60\n"
     ]
    }
   ],
   "source": [
    "print('X_train:', len(X_train), 'y_train:', len(y_train))\n",
    "print('X_test:',  len(X_test),  'y_test:',  len(y_test))"
   ]
  },
  {
   "cell_type": "markdown",
   "metadata": {},
   "source": [
    "### Selecciona el kernel de tu preferencia"
   ]
  },
  {
   "cell_type": "code",
   "execution_count": null,
   "metadata": {},
   "outputs": [],
   "source": [
    "# Entrenamiento\n",
    "## Escribe tu código aqui"
   ]
  },
  {
   "cell_type": "code",
   "execution_count": 11,
   "metadata": {},
   "outputs": [
    {
     "data": {
      "text/html": [
       "<style>#sk-container-id-1 {color: black;background-color: white;}#sk-container-id-1 pre{padding: 0;}#sk-container-id-1 div.sk-toggleable {background-color: white;}#sk-container-id-1 label.sk-toggleable__label {cursor: pointer;display: block;width: 100%;margin-bottom: 0;padding: 0.3em;box-sizing: border-box;text-align: center;}#sk-container-id-1 label.sk-toggleable__label-arrow:before {content: \"▸\";float: left;margin-right: 0.25em;color: #696969;}#sk-container-id-1 label.sk-toggleable__label-arrow:hover:before {color: black;}#sk-container-id-1 div.sk-estimator:hover label.sk-toggleable__label-arrow:before {color: black;}#sk-container-id-1 div.sk-toggleable__content {max-height: 0;max-width: 0;overflow: hidden;text-align: left;background-color: #f0f8ff;}#sk-container-id-1 div.sk-toggleable__content pre {margin: 0.2em;color: black;border-radius: 0.25em;background-color: #f0f8ff;}#sk-container-id-1 input.sk-toggleable__control:checked~div.sk-toggleable__content {max-height: 200px;max-width: 100%;overflow: auto;}#sk-container-id-1 input.sk-toggleable__control:checked~label.sk-toggleable__label-arrow:before {content: \"▾\";}#sk-container-id-1 div.sk-estimator input.sk-toggleable__control:checked~label.sk-toggleable__label {background-color: #d4ebff;}#sk-container-id-1 div.sk-label input.sk-toggleable__control:checked~label.sk-toggleable__label {background-color: #d4ebff;}#sk-container-id-1 input.sk-hidden--visually {border: 0;clip: rect(1px 1px 1px 1px);clip: rect(1px, 1px, 1px, 1px);height: 1px;margin: -1px;overflow: hidden;padding: 0;position: absolute;width: 1px;}#sk-container-id-1 div.sk-estimator {font-family: monospace;background-color: #f0f8ff;border: 1px dotted black;border-radius: 0.25em;box-sizing: border-box;margin-bottom: 0.5em;}#sk-container-id-1 div.sk-estimator:hover {background-color: #d4ebff;}#sk-container-id-1 div.sk-parallel-item::after {content: \"\";width: 100%;border-bottom: 1px solid gray;flex-grow: 1;}#sk-container-id-1 div.sk-label:hover label.sk-toggleable__label {background-color: #d4ebff;}#sk-container-id-1 div.sk-serial::before {content: \"\";position: absolute;border-left: 1px solid gray;box-sizing: border-box;top: 0;bottom: 0;left: 50%;z-index: 0;}#sk-container-id-1 div.sk-serial {display: flex;flex-direction: column;align-items: center;background-color: white;padding-right: 0.2em;padding-left: 0.2em;position: relative;}#sk-container-id-1 div.sk-item {position: relative;z-index: 1;}#sk-container-id-1 div.sk-parallel {display: flex;align-items: stretch;justify-content: center;background-color: white;position: relative;}#sk-container-id-1 div.sk-item::before, #sk-container-id-1 div.sk-parallel-item::before {content: \"\";position: absolute;border-left: 1px solid gray;box-sizing: border-box;top: 0;bottom: 0;left: 50%;z-index: -1;}#sk-container-id-1 div.sk-parallel-item {display: flex;flex-direction: column;z-index: 1;position: relative;background-color: white;}#sk-container-id-1 div.sk-parallel-item:first-child::after {align-self: flex-end;width: 50%;}#sk-container-id-1 div.sk-parallel-item:last-child::after {align-self: flex-start;width: 50%;}#sk-container-id-1 div.sk-parallel-item:only-child::after {width: 0;}#sk-container-id-1 div.sk-dashed-wrapped {border: 1px dashed gray;margin: 0 0.4em 0.5em 0.4em;box-sizing: border-box;padding-bottom: 0.4em;background-color: white;}#sk-container-id-1 div.sk-label label {font-family: monospace;font-weight: bold;display: inline-block;line-height: 1.2em;}#sk-container-id-1 div.sk-label-container {text-align: center;}#sk-container-id-1 div.sk-container {/* jupyter's `normalize.less` sets `[hidden] { display: none; }` but bootstrap.min.css set `[hidden] { display: none !important; }` so we also need the `!important` here to be able to override the default hidden behavior on the sphinx rendered scikit-learn.org. See: https://github.com/scikit-learn/scikit-learn/issues/21755 */display: inline-block !important;position: relative;}#sk-container-id-1 div.sk-text-repr-fallback {display: none;}</style><div id=\"sk-container-id-1\" class=\"sk-top-container\"><div class=\"sk-text-repr-fallback\"><pre>SVR()</pre><b>In a Jupyter environment, please rerun this cell to show the HTML representation or trust the notebook. <br />On GitHub, the HTML representation is unable to render, please try loading this page with nbviewer.org.</b></div><div class=\"sk-container\" hidden><div class=\"sk-item\"><div class=\"sk-estimator sk-toggleable\"><input class=\"sk-toggleable__control sk-hidden--visually\" id=\"sk-estimator-id-1\" type=\"checkbox\" checked><label for=\"sk-estimator-id-1\" class=\"sk-toggleable__label sk-toggleable__label-arrow\">SVR</label><div class=\"sk-toggleable__content\"><pre>SVR()</pre></div></div></div></div></div>"
      ],
      "text/plain": [
       "SVR()"
      ]
     },
     "execution_count": 11,
     "metadata": {},
     "output_type": "execute_result"
    }
   ],
   "source": []
  },
  {
   "cell_type": "code",
   "execution_count": null,
   "metadata": {},
   "outputs": [],
   "source": [
    "# Predicciones\n",
    "## Escribe tu código aqui"
   ]
  },
  {
   "cell_type": "code",
   "execution_count": 12,
   "metadata": {},
   "outputs": [
    {
     "data": {
      "text/plain": [
       "array([-0.69170643, -1.14941575, -0.95559414,  2.06455833, -0.40549575,\n",
       "       -1.171261  , -0.69345491, -0.14640786, -0.99780644,  0.50531125,\n",
       "        2.02670284, -0.73456785, -0.51827431,  0.3562584 , -0.41826171,\n",
       "       -0.18592055,  0.68267741, -1.10083597, -0.00326008,  0.67341734,\n",
       "        2.01871622, -0.59056446,  0.25712856, -0.14427521, -1.22289883,\n",
       "        0.31645945, -0.30301723,  1.57995572, -0.4458552 , -1.12730269,\n",
       "        0.05751972,  1.71844578,  0.22012285,  1.56318565, -1.2533326 ,\n",
       "       -1.44099393, -0.95207672, -0.22841299, -0.1915274 , -1.3712778 ,\n",
       "       -0.81046777, -1.19303939,  0.36356672,  0.44447853,  0.50334092,\n",
       "       -0.10232195, -1.26071444, -0.4460115 ,  0.38691961, -0.76497027,\n",
       "       -0.44572605,  1.23732163,  0.56893756,  0.28023907, -0.88349034,\n",
       "       -0.98965799,  1.14955824,  0.0509043 ,  0.37315209, -1.29650462])"
      ]
     },
     "execution_count": 12,
     "metadata": {},
     "output_type": "execute_result"
    }
   ],
   "source": []
  },
  {
   "cell_type": "markdown",
   "metadata": {},
   "source": [
    "## Evaluacion"
   ]
  },
  {
   "cell_type": "code",
   "execution_count": null,
   "metadata": {},
   "outputs": [],
   "source": [
    "## Escribe tu código aqui"
   ]
  },
  {
   "cell_type": "code",
   "execution_count": 13,
   "metadata": {},
   "outputs": [
    {
     "name": "stdout",
     "output_type": "stream",
     "text": [
      "MAE: 0.15454311970624224\n",
      "MSE: 0.06304742973839171\n",
      "RMSE: 0.25109247248452454\n",
      "R2: 0.9375018846144175\n"
     ]
    }
   ],
   "source": []
  },
  {
   "cell_type": "code",
   "execution_count": null,
   "metadata": {},
   "outputs": [],
   "source": []
  }
 ],
 "metadata": {
  "kernelspec": {
   "display_name": "Python 3 (ipykernel)",
   "language": "python",
   "name": "python3"
  },
  "language_info": {
   "codemirror_mode": {
    "name": "ipython",
    "version": 3
   },
   "file_extension": ".py",
   "mimetype": "text/x-python",
   "name": "python",
   "nbconvert_exporter": "python",
   "pygments_lexer": "ipython3",
   "version": "3.10.12"
  }
 },
 "nbformat": 4,
 "nbformat_minor": 4
}
